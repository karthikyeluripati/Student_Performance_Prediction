{
 "cells": [
  {
   "cell_type": "markdown",
   "metadata": {},
   "source": [
    "# Predict Student Performance from Game Play"
   ]
  },
  {
   "cell_type": "markdown",
   "metadata": {},
   "source": [
    "The goal of this competition is to predict student performance during game-based learning in real-time. We developed deep learning models, trained the datasets of game logs and achieved the best F1 score of 0.649."
   ]
  },
  {
   "cell_type": "markdown",
   "metadata": {
    "id": "ihBtfe8CEbbd"
   },
   "source": [
    "### Importing Libraries"
   ]
  },
  {
   "cell_type": "code",
   "execution_count": null,
   "metadata": {
    "execution": {
     "iopub.execute_input": "2023-05-02T03:30:01.428110Z",
     "iopub.status.busy": "2023-05-02T03:30:01.425255Z",
     "iopub.status.idle": "2023-05-02T03:30:01.441412Z",
     "shell.execute_reply": "2023-05-02T03:30:01.440258Z",
     "shell.execute_reply.started": "2023-05-02T03:30:01.428053Z"
    },
    "id": "FltUAdy_Ebbe"
   },
   "outputs": [],
   "source": [
    "import numpy as np # linear algebra\n",
    "import pandas as pd # data processing, CSV file I/O\n",
    "from tensorflow import keras # data modelling\n",
    "import tensorflow as tf # data modelling\n",
    "import matplotlib.pyplot as plt # data visualization"
   ]
  },
  {
   "cell_type": "markdown",
   "metadata": {
    "id": "Ay9no2QHEbbf"
   },
   "source": [
    "### Data Loading"
   ]
  },
  {
   "cell_type": "code",
   "execution_count": null,
   "metadata": {
    "execution": {
     "iopub.execute_input": "2023-05-02T03:30:10.027717Z",
     "iopub.status.busy": "2023-05-02T03:30:10.026336Z",
     "iopub.status.idle": "2023-05-02T03:32:18.433590Z",
     "shell.execute_reply": "2023-05-02T03:32:18.432421Z",
     "shell.execute_reply.started": "2023-05-02T03:30:10.027656Z"
    },
    "id": "WchI6CFnEbbf"
   },
   "outputs": [],
   "source": [
    "# all the column names in train.csv\n",
    "colnames = ['session_id', 'index', 'elapsed_time', 'event_name', 'name', 'level',\n",
    "       'page', 'room_coor_x', 'room_coor_y', 'screen_coor_x', 'screen_coor_y',\n",
    "       'hover_duration', 'text', 'fqid', 'room_fqid', 'text_fqid',\n",
    "       'level_group']\n",
    "\n",
    "# reading csv file and defining dtypes for each column\n",
    "train = pd.read_csv(\"train.csv\", usecols=colnames, \n",
    "                dtype = {'index':np.int16, 'level':np.int8, 'page':np.float32, 'room_coor_x':np.float32, \n",
    "                        'room_coor_y':np.float32, 'screen_coor_x':np.float16, 'screen_coor_y':np.float16, \n",
    "                        'hover_duration':np.float32, 'event_name':'category', 'name':'category', \n",
    "                        'text':'category', 'fqid':'category', 'room_fqid':'category', \n",
    "                        'level_group':'category'})"
   ]
  },
  {
   "cell_type": "markdown",
   "metadata": {
    "id": "mMJFYM0TEbbg"
   },
   "source": [
    "### Data Preprocessing"
   ]
  },
  {
   "cell_type": "code",
   "execution_count": null,
   "metadata": {
    "execution": {
     "iopub.execute_input": "2023-05-02T03:32:18.437560Z",
     "iopub.status.busy": "2023-05-02T03:32:18.436953Z",
     "iopub.status.idle": "2023-05-02T03:32:18.445905Z",
     "shell.execute_reply": "2023-05-02T03:32:18.444650Z",
     "shell.execute_reply.started": "2023-05-02T03:32:18.437518Z"
    },
    "id": "c283fmv3Ebbg"
   },
   "outputs": [],
   "source": [
    "def describe_all(df):\n",
    "    pd.set_option('display.max_rows', df.shape[1])  #display all rows of data\n",
    "    print(f'(rows, columns){df.shape} Datatype Counts:{dict(df.dtypes.value_counts())}')  \n",
    "    desc = train.describe(include='all').transpose()\n",
    "    desc['Datatype'] = train.dtypes\n",
    "    desc['%missing'] = train.isnull().sum().values / len(train) #handling null values\n",
    "    desc['Value0'] = train.head().transpose()[0]\n",
    "    desc['Value1'] = train.head().transpose()[1]\n",
    "    desc['Value2'] = train.head().transpose()[2]\n",
    "    desc['Value3'] = train.head().transpose()[3]\n",
    "    desc['Value4'] = train.head().transpose()[4]\n",
    "    return desc"
   ]
  },
  {
   "cell_type": "code",
   "execution_count": null,
   "metadata": {
    "execution": {
     "iopub.execute_input": "2023-05-02T03:32:18.448497Z",
     "iopub.status.busy": "2023-05-02T03:32:18.447735Z",
     "iopub.status.idle": "2023-05-02T03:32:18.864210Z",
     "shell.execute_reply": "2023-05-02T03:32:18.862930Z",
     "shell.execute_reply.started": "2023-05-02T03:32:18.448458Z"
    },
    "id": "Qowo0PBkEbbg"
   },
   "outputs": [],
   "source": [
    "# Train Labels are in a separate file\n",
    "# Reading the train_labels dataset\n",
    "train_label = pd.read_csv(\"train_labels.csv\")"
   ]
  },
  {
   "cell_type": "code",
   "execution_count": null,
   "metadata": {
    "execution": {
     "iopub.execute_input": "2023-05-02T03:32:18.866205Z",
     "iopub.status.busy": "2023-05-02T03:32:18.865848Z",
     "iopub.status.idle": "2023-05-02T03:32:19.625680Z",
     "shell.execute_reply": "2023-05-02T03:32:19.624518Z",
     "shell.execute_reply.started": "2023-05-02T03:32:18.866172Z"
    },
    "id": "13y-MFGVEbbg",
    "outputId": "375c250a-dce1-413e-f7a2-95425736f606"
   },
   "outputs": [
    {
     "name": "stdout",
     "output_type": "stream",
     "text": [
      "Train_labels shape:  (424116, 4)\n"
     ]
    }
   ],
   "source": [
    "# For each session id there are multiple questions. We split the question number from the session id\n",
    "train_label['session'] = train_label.session_id.apply(lambda x: int(x.split('_')[0]) )\n",
    "train_label['q'] = train_label.session_id.apply(lambda x: int(x.split('_')[-1][1:]) ) # returns the last split item ([-1]) and remove the first character of that item ([1:]) which is q\n",
    "\n",
    "print(\"Train_labels shape: \", train_label.shape )"
   ]
  },
  {
   "cell_type": "code",
   "execution_count": null,
   "metadata": {
    "execution": {
     "iopub.execute_input": "2023-05-02T03:32:19.627638Z",
     "iopub.status.busy": "2023-05-02T03:32:19.627291Z",
     "iopub.status.idle": "2023-05-02T03:32:22.207229Z",
     "shell.execute_reply": "2023-05-02T03:32:22.201548Z",
     "shell.execute_reply.started": "2023-05-02T03:32:19.627604Z"
    },
    "id": "fWYAU0xUEbbh",
    "outputId": "e15615fb-aeb4-4e90-b333-e4e092332fbb"
   },
   "outputs": [
    {
     "name": "stdout",
     "output_type": "stream",
     "text": [
      "Numerical features : 10\n",
      "Categorical features : 6\n"
     ]
    }
   ],
   "source": [
    "# Separate numerical features and categorical features for processing\n",
    "categorical_features = train.select_dtypes(include = [\"category\",\"object\",\"bool\"]).columns\n",
    "numerical_features = train.select_dtypes(include = [\"int8\",\"int16\",\"int64\",\"float16\",\"float32\",\"float64\"]).columns\n",
    "categorical_features = categorical_features.drop(\"level_group\")\n",
    "print(\"Numerical features : \" + str(len(numerical_features)))\n",
    "print(\"Categorical features : \" + str(len(categorical_features)))"
   ]
  },
  {
   "cell_type": "markdown",
   "metadata": {
    "id": "B5NKGwtLEbbh"
   },
   "source": [
    "### Deep Learning Model"
   ]
  },
  {
   "cell_type": "markdown",
   "metadata": {
    "id": "mb1cDr6MEbbh"
   },
   "source": [
    "##### Preprocessing Continued: Handling missing values for numerical and categorical features"
   ]
  },
  {
   "cell_type": "code",
   "execution_count": null,
   "metadata": {
    "id": "YN-t--yPEbbh"
   },
   "outputs": [],
   "source": [
    "# Importing Libraries\n",
    "from sklearn.preprocessing import OrdinalEncoder\n",
    "from sklearn.model_selection import cross_val_score, train_test_split, KFold, GroupKFold\n",
    "from sklearn.metrics import f1_score"
   ]
  },
  {
   "cell_type": "code",
   "execution_count": null,
   "metadata": {
    "execution": {
     "iopub.execute_input": "2023-05-02T03:32:22.218769Z",
     "iopub.status.busy": "2023-05-02T03:32:22.215447Z",
     "iopub.status.idle": "2023-05-02T03:32:23.782626Z",
     "shell.execute_reply": "2023-05-02T03:32:23.777381Z",
     "shell.execute_reply.started": "2023-05-02T03:32:22.218592Z"
    },
    "id": "UgRTd9waEbbi"
   },
   "outputs": [],
   "source": [
    "def encode_fill(train):\n",
    "    # Handling missing values for numerical features by using median as replacement\n",
    "    print(\"NAs for numerical features: \" + str(train[numerical_features].isnull().values.sum()))\n",
    "    train[numerical_features] = train[numerical_features].fillna(train[numerical_features].median())\n",
    "    print(\"After Processing:\")\n",
    "    print(\"NAs for numerical features: \" + str(train[numerical_features].isnull().values.sum()))\n",
    "    print(\" \")\n",
    "    # Use OrdinalEncoder to encode categorical \n",
    "    encoder = OrdinalEncoder()\n",
    "    train[categorical_features] = encoder.fit_transform(train[categorical_features])\n",
    "    # Handle missing values for categorical features\n",
    "    print(\"NAs for categorical features: \" + str(train[categorical_features].isnull().values.sum()))\n",
    "    train[categorical_features] = train[categorical_features].fillna(method=\"ffill\")\n",
    "    print(\"After Processing:\")\n",
    "    print(\"NAs for categorical features: \" + str(train[categorical_features].isnull().values.sum()))\n",
    "    train[categorical_features] = train[categorical_features].fillna(0)\n",
    "    print(\"NAs for categorical features: \" + str(train[categorical_features].isnull().values.sum()))"
   ]
  },
  {
   "cell_type": "code",
   "execution_count": null,
   "metadata": {
    "execution": {
     "iopub.execute_input": "2023-05-02T03:32:23.790792Z",
     "iopub.status.busy": "2023-05-02T03:32:23.789121Z",
     "iopub.status.idle": "2023-05-02T03:33:45.587519Z",
     "shell.execute_reply": "2023-05-02T03:33:45.585474Z",
     "shell.execute_reply.started": "2023-05-02T03:32:23.790568Z"
    },
    "id": "4v1mOwl1Ebbi",
    "outputId": "489edf41-d245-4faa-9a1e-8c5542cc1b1f"
   },
   "outputs": [
    {
     "name": "stdout",
     "output_type": "stream",
     "text": [
      "NAs for numerical features: 58320192\n",
      "After Processing:\n",
      "NAs for numerical features: 0\n",
      " \n",
      "NAs for categorical features: 41633924\n",
      "After Processing:\n",
      "NAs for categorical features: 0\n",
      "NAs for categorical features: 0\n"
     ]
    }
   ],
   "source": [
    "encode_fill(train)"
   ]
  },
  {
   "cell_type": "markdown",
   "metadata": {
    "id": "3mH1VB_UEbbi"
   },
   "source": [
    "##### Feature Engineering"
   ]
  },
  {
   "cell_type": "code",
   "execution_count": null,
   "metadata": {
    "execution": {
     "iopub.execute_input": "2023-05-02T03:33:45.589713Z",
     "iopub.status.busy": "2023-05-02T03:33:45.589090Z",
     "iopub.status.idle": "2023-05-02T03:33:45.603530Z",
     "shell.execute_reply": "2023-05-02T03:33:45.601399Z",
     "shell.execute_reply.started": "2023-05-02T03:33:45.589673Z"
    },
    "id": "U5m5ovS8Ebbi"
   },
   "outputs": [],
   "source": [
    "# the process of selecting, manipulating, and transforming raw data into features that can be used in model learning.\n",
    "def feature_engineer(train):\n",
    "    \n",
    "    dfs = []\n",
    "    for i in categorical_features:\n",
    "        temp = train.groupby(['session_id','level_group'])[i].agg('nunique')\n",
    "        temp.name = temp.name + '_nunique'\n",
    "        dfs.append(temp)\n",
    "    for i in numerical_features:\n",
    "        temp = train.groupby(['session_id','level_group'])[i].agg('mean')\n",
    "        temp.name = temp.name + '_mean'\n",
    "        dfs.append(temp)\n",
    "    for i in numerical_features:\n",
    "        temp = train.groupby(['session_id','level_group'])[i].agg('std')\n",
    "        temp.name = temp.name + '_std'\n",
    "        dfs.append(temp)\n",
    "    for i in numerical_features:\n",
    "        temp = train.groupby(['session_id','level_group'])[i].agg('max')-train.groupby(['session_id','level_group'])[i].agg('min')\n",
    "        temp.name = temp.name + '_delta'\n",
    "        dfs.append(temp)\n",
    "    for i in categorical_features:\n",
    "        temp = train.groupby(['session_id','level_group'])[i].agg('count')\n",
    "        temp.name = temp.name + '_count'\n",
    "        dfs.append(temp)\n",
    "    for i in categorical_features:\n",
    "        temp = train.groupby(['session_id','level_group'])[i].agg('sum')\n",
    "        temp.name = temp.name + '_sum'\n",
    "        dfs.append(temp)\n",
    "    \n",
    "        \n",
    "    feature_engineered = pd.concat(dfs,axis=1)\n",
    "    feature_engineered = feature_engineered.fillna(-1)\n",
    "    feature_engineered = feature_engineered.reset_index()\n",
    "    feature_engineered = feature_engineered.set_index('session_id')\n",
    "    return feature_engineered"
   ]
  },
  {
   "cell_type": "code",
   "execution_count": null,
   "metadata": {
    "execution": {
     "iopub.execute_input": "2023-05-02T03:33:45.605972Z",
     "iopub.status.busy": "2023-05-02T03:33:45.605574Z",
     "iopub.status.idle": "2023-05-02T03:35:18.938268Z",
     "shell.execute_reply": "2023-05-02T03:35:18.936932Z",
     "shell.execute_reply.started": "2023-05-02T03:33:45.605934Z"
    },
    "id": "FuEOD7MREbbi",
    "outputId": "576511f1-c9da-44dd-8e5b-2edbc0fe4413"
   },
   "outputs": [
    {
     "name": "stdout",
     "output_type": "stream",
     "text": [
      "                  level_group  event_name_nunique  name_nunique  text_nunique  \\\n",
      "session_id                                                                      \n",
      "20090312431273200         0-4                  10             3            56   \n",
      "20090312431273200       13-22                  10             3           169   \n",
      "20090312431273200        5-12                  10             3           125   \n",
      "20090312433251036         0-4                  11             4            49   \n",
      "20090312433251036       13-22                  11             6           183   \n",
      "\n",
      "                   fqid_nunique  room_fqid_nunique  text_fqid_nunique  \\\n",
      "session_id                                                              \n",
      "20090312431273200            30                  7                 17   \n",
      "20090312431273200            50                 12                 36   \n",
      "20090312431273200            39                 11                 25   \n",
      "20090312433251036            22                  6                 11   \n",
      "20090312433251036            74                 16                 43   \n",
      "\n",
      "                   session_id_mean  index_mean  elapsed_time_mean  ...  \\\n",
      "session_id                                                         ...   \n",
      "20090312431273200     2.009031e+16        82.0       8.579356e+04  ...   \n",
      "20090312431273200     2.009031e+16       721.5       1.040601e+06  ...   \n",
      "20090312431273200     2.009031e+16       322.5       3.572052e+05  ...   \n",
      "20090312433251036     2.009031e+16        69.0       9.763342e+04  ...   \n",
      "20090312433251036     2.009031e+16      1227.0       2.498852e+06  ...   \n",
      "\n",
      "                   text_count  fqid_count  room_fqid_count  text_fqid_count  \\\n",
      "session_id                                                                    \n",
      "20090312431273200         165         165              165              165   \n",
      "20090312431273200         420         420              420              420   \n",
      "20090312431273200         296         296              296              296   \n",
      "20090312433251036         139         139              139              139   \n",
      "20090312433251036        1297        1297             1297             1297   \n",
      "\n",
      "                   event_name_sum  name_sum  text_sum  fqid_sum  \\\n",
      "session_id                                                        \n",
      "20090312431273200           781.0     431.0   55330.0   12364.0   \n",
      "20090312431273200          2355.0     940.0  130336.0   28984.0   \n",
      "20090312431273200          1934.0     651.0   93670.0   20423.0   \n",
      "20090312433251036           630.0     288.0   44484.0    8898.0   \n",
      "20090312433251036          6199.0    3767.0  457009.0  101238.0   \n",
      "\n",
      "                   room_fqid_sum  text_fqid_sum  \n",
      "session_id                                       \n",
      "20090312431273200         1637.0         8785.0  \n",
      "20090312431273200         4582.0        28955.0  \n",
      "20090312431273200         3079.0        19039.0  \n",
      "20090312433251036         1467.0         7925.0  \n",
      "20090312433251036        13638.0        68831.0  \n",
      "\n",
      "[5 rows x 49 columns]\n"
     ]
    }
   ],
   "source": [
    "# Feature Engineer Train \n",
    "df_tr = feature_engineer(train)\n",
    "print(df_tr.head())"
   ]
  },
  {
   "cell_type": "code",
   "execution_count": null,
   "metadata": {
    "execution": {
     "iopub.execute_input": "2023-05-02T03:35:18.941063Z",
     "iopub.status.busy": "2023-05-02T03:35:18.939887Z",
     "iopub.status.idle": "2023-05-02T03:35:18.953274Z",
     "shell.execute_reply": "2023-05-02T03:35:18.951912Z",
     "shell.execute_reply.started": "2023-05-02T03:35:18.941019Z"
    },
    "id": "tE2DF6d0Ebbj"
   },
   "outputs": [],
   "source": [
    "train = []"
   ]
  },
  {
   "cell_type": "code",
   "execution_count": null,
   "metadata": {
    "execution": {
     "iopub.execute_input": "2023-05-02T03:35:19.213170Z",
     "iopub.status.busy": "2023-05-02T03:35:19.212382Z",
     "iopub.status.idle": "2023-05-02T03:35:19.224411Z",
     "shell.execute_reply": "2023-05-02T03:35:19.222844Z",
     "shell.execute_reply.started": "2023-05-02T03:35:19.213121Z"
    },
    "id": "9RJieIbqEbbj",
    "outputId": "9441e1ac-c334-438b-a980-ef35df4c3afe"
   },
   "outputs": [
    {
     "name": "stdout",
     "output_type": "stream",
     "text": [
      "We will train with 48 features and  23562 users info\n"
     ]
    }
   ],
   "source": [
    "# Define features \n",
    "FEATURES = [c for c in df_tr.columns if c != 'level_group']\n",
    "UNIQUE_ID = df_tr.index.unique()\n",
    "print('We will train with', len(FEATURES) ,'features and ', len(UNIQUE_ID) ,'users info')"
   ]
  },
  {
   "cell_type": "markdown",
   "metadata": {
    "id": "Tjf3AH3wEbbl"
   },
   "source": [
    "### Model 1 - Keras Sequential Model\n",
    "#### Activation Function - 'elu'\n",
    "#### Hidden dense layers = 5\n",
    "#### Batch Normalization and Dropout Rate 20%"
   ]
  },
  {
   "cell_type": "code",
   "execution_count": null,
   "metadata": {
    "id": "K30rQXLvEbbl",
    "outputId": "cff3a533-85d4-4c93-a383-f1bf878977df"
   },
   "outputs": [
    {
     "name": "stdout",
     "output_type": "stream",
     "text": [
      "#########################\n",
      "### Fold 1\n",
      "#########################\n",
      "148/148 [==============================] - 0s 1ms/step\n",
      "148/148 [==============================] - 0s 1ms/step\n",
      "148/148 [==============================] - 0s 1ms/step\n",
      "148/148 [==============================] - 0s 1ms/step\n",
      "148/148 [==============================] - 0s 1ms/step\n",
      "148/148 [==============================] - 0s 1ms/step\n",
      "148/148 [==============================] - 0s 1ms/step\n",
      "148/148 [==============================] - 0s 1ms/step\n",
      "148/148 [==============================] - 0s 1ms/step\n",
      "148/148 [==============================] - 0s 1ms/step\n",
      "148/148 [==============================] - 0s 1ms/step\n",
      "148/148 [==============================] - 0s 1ms/step\n",
      "148/148 [==============================] - 0s 1ms/step\n",
      "148/148 [==============================] - 0s 1ms/step\n",
      "148/148 [==============================] - 0s 1ms/step\n",
      "148/148 [==============================] - 0s 1ms/step\n",
      "148/148 [==============================] - 0s 1ms/step\n",
      "148/148 [==============================] - 0s 1ms/step\n",
      "\n",
      "#########################\n",
      "### Fold 2\n",
      "#########################\n",
      "148/148 [==============================] - 0s 2ms/step\n",
      "148/148 [==============================] - 0s 1ms/step\n",
      "148/148 [==============================] - 0s 1ms/step\n",
      "148/148 [==============================] - 0s 1ms/step\n",
      "148/148 [==============================] - 0s 2ms/step\n",
      "148/148 [==============================] - 0s 2ms/step\n",
      "148/148 [==============================] - 0s 1ms/step\n",
      "148/148 [==============================] - 0s 1ms/step\n",
      "148/148 [==============================] - 0s 2ms/step\n",
      "148/148 [==============================] - 0s 2ms/step\n",
      "148/148 [==============================] - 0s 1ms/step\n",
      "148/148 [==============================] - 0s 2ms/step\n",
      "148/148 [==============================] - 1s 5ms/step\n",
      "148/148 [==============================] - 1s 5ms/step\n",
      "148/148 [==============================] - 1s 5ms/step\n",
      "148/148 [==============================] - 1s 5ms/step\n",
      "148/148 [==============================] - 2s 8ms/step\n",
      "148/148 [==============================] - 1s 7ms/step\n",
      "\n",
      "#########################\n",
      "### Fold 3\n",
      "#########################\n",
      "148/148 [==============================] - 1s 6ms/step\n",
      "148/148 [==============================] - 1s 6ms/step\n",
      "148/148 [==============================] - 1s 5ms/step\n",
      "148/148 [==============================] - 1s 6ms/step\n",
      "148/148 [==============================] - 1s 6ms/step\n",
      "148/148 [==============================] - 2s 9ms/step\n",
      "148/148 [==============================] - 1s 8ms/step\n",
      "148/148 [==============================] - 1s 7ms/step\n",
      "148/148 [==============================] - 1s 7ms/step\n",
      "148/148 [==============================] - 1s 7ms/step\n",
      "148/148 [==============================] - 1s 7ms/step\n",
      "148/148 [==============================] - 1s 7ms/step\n",
      "148/148 [==============================] - 2s 8ms/step\n",
      "148/148 [==============================] - 2s 9ms/step\n",
      "148/148 [==============================] - 2s 9ms/step\n",
      "148/148 [==============================] - 2s 9ms/step\n",
      "148/148 [==============================] - 2s 8ms/step\n",
      "148/148 [==============================] - 2s 8ms/step\n",
      "\n",
      "#########################\n",
      "### Fold 4\n",
      "#########################\n",
      "148/148 [==============================] - 2s 8ms/step\n",
      "148/148 [==============================] - 2s 9ms/step\n",
      "148/148 [==============================] - 2s 10ms/step\n",
      "148/148 [==============================] - 2s 9ms/step\n",
      "148/148 [==============================] - 2s 9ms/step\n",
      "148/148 [==============================] - 2s 9ms/step\n",
      "148/148 [==============================] - 1s 3ms/step\n",
      "148/148 [==============================] - 1s 3ms/step\n",
      "148/148 [==============================] - 1s 3ms/step\n",
      "148/148 [==============================] - 1s 4ms/step\n",
      "148/148 [==============================] - 1s 4ms/step\n",
      "148/148 [==============================] - 1s 4ms/step\n",
      "148/148 [==============================] - 1s 4ms/step\n",
      "148/148 [==============================] - 1s 3ms/step\n",
      "148/148 [==============================] - 1s 4ms/step\n",
      "148/148 [==============================] - 1s 4ms/step\n",
      "148/148 [==============================] - 1s 4ms/step\n",
      "148/148 [==============================] - 1s 3ms/step\n",
      "\n",
      "#########################\n",
      "### Fold 5\n",
      "#########################\n",
      "148/148 [==============================] - 1s 4ms/step\n",
      "148/148 [==============================] - 1s 4ms/step\n",
      "148/148 [==============================] - 1s 4ms/step\n",
      "148/148 [==============================] - 1s 4ms/step\n",
      "148/148 [==============================] - 1s 3ms/step\n",
      "148/148 [==============================] - 1s 4ms/step\n",
      "148/148 [==============================] - 1s 3ms/step\n",
      "148/148 [==============================] - 1s 4ms/step\n",
      "148/148 [==============================] - 1s 4ms/step\n",
      "148/148 [==============================] - 1s 4ms/step\n",
      "148/148 [==============================] - 1s 4ms/step\n",
      "148/148 [==============================] - 1s 4ms/step\n",
      "148/148 [==============================] - 1s 4ms/step\n",
      "148/148 [==============================] - 1s 3ms/step\n",
      "148/148 [==============================] - 1s 4ms/step\n",
      "148/148 [==============================] - 1s 4ms/step\n",
      "148/148 [==============================] - 1s 5ms/step\n",
      "148/148 [==============================] - 1s 4ms/step\n",
      "\n"
     ]
    }
   ],
   "source": [
    "gkf = GroupKFold(n_splits=5)\n",
    "oof = pd.DataFrame(data=np.zeros((len(UNIQUE_ID),18)), index=UNIQUE_ID)\n",
    "models = {}\n",
    "\n",
    "# Compute CV Score with 5 Group K Fold\n",
    "for i, (train_index, test_index) in enumerate(gkf.split(X=df_tr, groups=df_tr.index)):\n",
    "    print('#'*25)\n",
    "    print('### Fold',i+1)\n",
    "    print('#'*25)\n",
    "        \n",
    "    # Iterating from Questions 1-18\n",
    "    for t in range(1,19):\n",
    "        print(t,', ',end='')\n",
    "        if t<=3: grp = '0-4'\n",
    "        elif t<=13: grp = '5-12'\n",
    "        elif t<=22: grp = '13-22'\n",
    "            \n",
    "        # Training Data\n",
    "        train_x = df_tr.iloc[train_index]\n",
    "        train_x = train_x.loc[train_x.level_group == grp]\n",
    "        train_users = train_x.index.values\n",
    "        train_y = train_label.loc[train_label.q==t].set_index('session').loc[train_users]\n",
    "        \n",
    "        # Validation Data\n",
    "        valid_x = df_tr.iloc[test_index]\n",
    "        valid_x = valid_x.loc[valid_x.level_group == grp]\n",
    "        valid_users = valid_x.index.values\n",
    "        valid_y = train_label.loc[train_label.q==t].set_index('session').loc[valid_users]\n",
    "        \n",
    "        # Training Model\n",
    "        keras.backend.clear_session()\n",
    "          \n",
    "        model = keras.models.Sequential([\n",
    "            keras.layers.Dense(256,activation=\"elu\"), # input layer with 256 neurons\n",
    "            \n",
    "            keras.layers.Dense(128,activation=\"elu\"), # dense hidden layer with 128 neurons\n",
    "            keras.layers.Dropout(0.2),\n",
    "            keras.layers.BatchNormalization(),\n",
    "            keras.layers.Dense(64,activation=\"elu\"),  # dense hidden layer with 64 neurons\n",
    "            keras.layers.Dropout(0.2),\n",
    "            keras.layers.BatchNormalization(),\n",
    "            keras.layers.Dense(128,activation=\"elu\"),  # dense hidden layer with 128 neurons\n",
    "            keras.layers.Dropout(0.2),\n",
    "            keras.layers.BatchNormalization(),\n",
    "            keras.layers.Dense(64,activation=\"elu\"),  # dense hidden layer with 64 neurons\n",
    "            keras.layers.Dropout(0.2),\n",
    "            keras.layers.BatchNormalization(),\n",
    "            keras.layers.Dense(32,activation=\"elu\"),  # dense hidden layer with 32 neurons\n",
    "            keras.layers.Dropout(0.2),\n",
    "            keras.layers.BatchNormalization(),\n",
    "            \n",
    "            keras.layers.Dense(1, activation=\"sigmoid\") # output layer with 1 output\n",
    "        ])\n",
    "\n",
    "        model.compile(loss='binary_crossentropy',\n",
    "        optimizer=keras.optimizers.Nadam(learning_rate=0.05), \n",
    "        metrics=['accuracy']\n",
    "        )\n",
    "\n",
    "        history = model.fit(train_x[FEATURES].astype('float32'), train_y['correct'], epochs=10, verbose = 0)\n",
    "        # Save Model\n",
    "        models[f'{grp}_{t}'] = model\n",
    "        pp = model.predict(valid_x[FEATURES].astype('float32'))\n",
    "        new_arr = np.hstack((np.zeros(pp.shape), pp))\n",
    "        oof.loc[valid_users, t-1] = new_arr[:,1]\n",
    "    print()"
   ]
  },
  {
   "cell_type": "code",
   "execution_count": null,
   "metadata": {
    "id": "MlKf84xiEbbl"
   },
   "outputs": [],
   "source": [
    "true = oof.copy()\n",
    "for i in range(18):\n",
    "    temp = train_label.loc[train_label.q == i+1].set_index('session').loc[UNIQUE_ID]\n",
    "    true[i] = temp.correct.values"
   ]
  },
  {
   "cell_type": "code",
   "execution_count": null,
   "metadata": {
    "id": "DBJJc7CWEbbm",
    "outputId": "9aaac142-7b2d-4748-98a2-837f634fbefe"
   },
   "outputs": [
    {
     "name": "stdout",
     "output_type": "stream",
     "text": [
      "0.40, 0.41, 0.42, 0.43, 0.44, 0.45, 0.46, 0.47, 0.48, 0.49, 0.50, 0.51, 0.52, 0.53, 0.54, 0.55, 0.56, 0.57, 0.58, 0.59, 0.60, 0.61, 0.62, 0.63, 0.64, 0.65, 0.66, 0.67, 0.68, 0.69, 0.70, 0.71, 0.72, 0.73, 0.74, 0.75, 0.76, 0.77, 0.78, 0.79, 0.80, "
     ]
    }
   ],
   "source": [
    "scores = []; thresholds = []\n",
    "best_score = 0; best_threshold = 0\n",
    "\n",
    "for threshold in np.arange(0.4,0.81,0.01):\n",
    "    print(f'{threshold:.02f}, ',end='')\n",
    "    preds = (oof.values.reshape((-1))>threshold).astype('int')\n",
    "    m = f1_score(true.values.reshape((-1)), preds, average='macro')   \n",
    "    scores.append(m)\n",
    "    thresholds.append(threshold)\n",
    "    if m>best_score:\n",
    "        best_score = m\n",
    "        best_threshold = threshold"
   ]
  },
  {
   "cell_type": "markdown",
   "metadata": {
    "id": "8K2oEwXMEbbm"
   },
   "source": [
    "### Model Evaluation"
   ]
  },
  {
   "cell_type": "code",
   "execution_count": null,
   "metadata": {
    "id": "PQPleFEhEbbm",
    "outputId": "1ca6feac-7609-449a-b079-a1c0d1ef1a8a"
   },
   "outputs": [
    {
     "data": {
      "image/png": "[encoded data removed]",
      "text/plain": [
       "<Figure size 1440x360 with 1 Axes>"
      ]
     },
     "metadata": {
      "needs_background": "light"
     },
     "output_type": "display_data"
    }
   ],
   "source": [
    "plt.figure(figsize=(20,5))\n",
    "plt.plot(thresholds,scores,'-o',color='blue')\n",
    "plt.scatter([best_threshold], [best_score], color='blue', s=300, alpha=1)\n",
    "plt.xlabel('Threshold',size=14)\n",
    "plt.ylabel('Validation F1 Score',size=14)\n",
    "plt.title(f'Threshold vs. F1_Score with Best F1_Score = {best_score:.3f} at Best Threshold = {best_threshold:.3}',size=18)\n",
    "plt.show()"
   ]
  },
  {
   "cell_type": "code",
   "execution_count": null,
   "metadata": {
    "id": "P7V6Lts_Ebbm",
    "outputId": "b413287b-e8a1-40c6-f6a5-6830f60f8508"
   },
   "outputs": [
    {
     "name": "stdout",
     "output_type": "stream",
     "text": [
      "Q0: F1 = 0.5012563765766721\n",
      "Q1: F1 = 0.49464879356568364\n",
      "Q2: F1 = 0.42006509481200877\n",
      "Q3: F1 = 0.5006690050213041\n",
      "Q4: F1 = 0.3111734783371338\n",
      "Q5: F1 = 0.42634313464644447\n",
      "Q6: F1 = 0.42398239823982403\n",
      "Q7: F1 = 0.5002642213529809\n",
      "Q8: F1 = 0.44089381726085386\n",
      "Q9: F1 = 0.33091012352690613\n",
      "Q10: F1 = 0.4671122716806988\n",
      "Q11: F1 = 0.46321904544936776\n",
      "Q12: F1 = 0.42025490871512233\n",
      "Q13: F1 = 0.4978857569696069\n",
      "Q14: F1 = 0.45178678090681745\n",
      "Q15: F1 = 0.5014829745595288\n",
      "Q16: F1 = 0.4877194169143756\n",
      "Q17: F1 = 0.48734796893017995\n",
      "==> Overall F1 = 0.5951798497713129\n"
     ]
    }
   ],
   "source": [
    "for k in range(18):\n",
    "        \n",
    "    # Computing F1 Score per Question\n",
    "    m = f1_score(true[k].values, (oof[k].values>best_threshold).astype('int'), average='macro')\n",
    "    print(f'Q{k}: F1 =',m)\n",
    "    \n",
    "# Computing F1 Score Overall\n",
    "m = f1_score(true.values.reshape((-1)), (oof.values.reshape((-1))>best_threshold).astype('int'), average='macro')\n",
    "print('==> Overall F1 =',m)"
   ]
  },
  {
   "cell_type": "markdown",
   "metadata": {
    "id": "PDH3f-LjEbbk"
   },
   "source": [
    "### Model 2 - Keras Sequential Model\n",
    "#### Activation Function - 'relu'\n",
    "#### Dense Hidden Layers = 4\n",
    "#### Batch Normalization and Dropout rate 50%"
   ]
  },
  {
   "cell_type": "code",
   "execution_count": null,
   "metadata": {
    "id": "0pogG2PnEbbk",
    "outputId": "3f0615ff-68d1-4051-a0a3-979143456961"
   },
   "outputs": [
    {
     "name": "stdout",
     "output_type": "stream",
     "text": [
      "#########################\n",
      "### Fold 1\n",
      "#########################\n",
      "148/148 [==============================] - 0s 3ms/step\n",
      "148/148 [==============================] - 0s 3ms/step\n",
      "148/148 [==============================] - 0s 3ms/step\n",
      "148/148 [==============================] - 1s 3ms/step\n",
      "148/148 [==============================] - 1s 4ms/step\n",
      "148/148 [==============================] - 1s 3ms/step\n",
      "148/148 [==============================] - 1s 4ms/step\n",
      "148/148 [==============================] - 1s 4ms/step\n",
      "148/148 [==============================] - 1s 4ms/step\n",
      "148/148 [==============================] - 1s 4ms/step\n",
      "148/148 [==============================] - 1s 4ms/step\n",
      "148/148 [==============================] - 1s 4ms/step\n",
      "148/148 [==============================] - 1s 4ms/step\n",
      "148/148 [==============================] - 1s 3ms/step\n",
      "148/148 [==============================] - 1s 3ms/step\n",
      "148/148 [==============================] - 1s 3ms/step\n",
      "148/148 [==============================] - 1s 3ms/step\n",
      "148/148 [==============================] - 1s 4ms/step\n",
      "\n",
      "#########################\n",
      "### Fold 2\n",
      "#########################\n",
      "148/148 [==============================] - 1s 3ms/step\n",
      "148/148 [==============================] - 1s 3ms/step\n",
      "148/148 [==============================] - 1s 3ms/step\n",
      "148/148 [==============================] - 1s 3ms/step\n",
      "148/148 [==============================] - 1s 3ms/step\n",
      "148/148 [==============================] - 1s 3ms/step\n",
      "148/148 [==============================] - 1s 3ms/step\n",
      "148/148 [==============================] - 1s 3ms/step\n",
      "148/148 [==============================] - 1s 3ms/step\n",
      "148/148 [==============================] - 1s 3ms/step\n",
      "148/148 [==============================] - 1s 3ms/step\n",
      "148/148 [==============================] - 1s 3ms/step\n",
      "148/148 [==============================] - 1s 3ms/step\n",
      "148/148 [==============================] - 1s 3ms/step\n",
      "148/148 [==============================] - 1s 3ms/step\n",
      "148/148 [==============================] - 1s 3ms/step\n",
      "148/148 [==============================] - 1s 3ms/step\n",
      "148/148 [==============================] - 1s 3ms/step\n",
      "\n",
      "#########################\n",
      "### Fold 3\n",
      "#########################\n",
      "148/148 [==============================] - 2s 10ms/step\n",
      "148/148 [==============================] - 2s 10ms/step\n",
      "148/148 [==============================] - 2s 11ms/step\n",
      "148/148 [==============================] - 2s 10ms/step\n",
      "148/148 [==============================] - 2s 10ms/step\n",
      "148/148 [==============================] - 2s 9ms/step\n",
      "148/148 [==============================] - 2s 11ms/step\n",
      "148/148 [==============================] - 2s 11ms/step\n",
      "148/148 [==============================] - 2s 10ms/step\n",
      "148/148 [==============================] - 2s 10ms/step\n",
      "148/148 [==============================] - 2s 9ms/step\n",
      "148/148 [==============================] - 2s 10ms/step\n",
      "148/148 [==============================] - 2s 11ms/step\n",
      "148/148 [==============================] - 2s 10ms/step\n",
      "148/148 [==============================] - 2s 11ms/step\n",
      "148/148 [==============================] - 2s 11ms/step\n",
      "148/148 [==============================] - 2s 11ms/step\n",
      "148/148 [==============================] - 2s 11ms/step\n",
      "\n",
      "#########################\n",
      "### Fold 4\n",
      "#########################\n",
      "148/148 [==============================] - 2s 10ms/step\n",
      "148/148 [==============================] - 2s 10ms/step\n",
      "148/148 [==============================] - 2s 10ms/step\n",
      "148/148 [==============================] - 2s 10ms/step\n",
      "148/148 [==============================] - 2s 10ms/step\n",
      "148/148 [==============================] - 2s 10ms/step\n",
      "148/148 [==============================] - 2s 11ms/step\n",
      "148/148 [==============================] - 2s 11ms/step\n",
      "148/148 [==============================] - 2s 11ms/step\n",
      "148/148 [==============================] - 2s 11ms/step\n",
      "148/148 [==============================] - 2s 11ms/step\n",
      "148/148 [==============================] - 2s 10ms/step\n",
      "148/148 [==============================] - 2s 10ms/step\n",
      "148/148 [==============================] - 2s 10ms/step\n",
      "148/148 [==============================] - 2s 11ms/step\n",
      "148/148 [==============================] - 2s 11ms/step\n",
      "148/148 [==============================] - 2s 11ms/step\n",
      "148/148 [==============================] - 2s 10ms/step\n",
      "\n",
      "#########################\n",
      "### Fold 5\n",
      "#########################\n",
      "148/148 [==============================] - 2s 10ms/step\n",
      "148/148 [==============================] - 2s 10ms/step\n",
      "148/148 [==============================] - 2s 10ms/step\n",
      "148/148 [==============================] - 2s 10ms/step\n",
      "148/148 [==============================] - 2s 11ms/step\n",
      "148/148 [==============================] - 2s 11ms/step\n",
      "148/148 [==============================] - 2s 11ms/step\n",
      "148/148 [==============================] - 2s 11ms/step\n",
      "148/148 [==============================] - 2s 11ms/step\n",
      "148/148 [==============================] - 2s 10ms/step\n",
      "148/148 [==============================] - 2s 10ms/step\n",
      "148/148 [==============================] - 2s 11ms/step\n",
      "148/148 [==============================] - 2s 12ms/step\n",
      "148/148 [==============================] - 2s 12ms/step\n",
      "148/148 [==============================] - 2s 12ms/step\n",
      "148/148 [==============================] - 2s 11ms/step\n",
      "148/148 [==============================] - 2s 11ms/step\n",
      "148/148 [==============================] - 2s 11ms/step\n",
      "\n"
     ]
    }
   ],
   "source": [
    "gkf = GroupKFold(n_splits=5)\n",
    "oof = pd.DataFrame(data=np.zeros((len(UNIQUE_ID),18)), index=UNIQUE_ID)\n",
    "models = {}\n",
    "\n",
    "# Compute CV Score with 5 Group K Fold\n",
    "for i, (train_index, test_index) in enumerate(gkf.split(X=df_tr, groups=df_tr.index)):\n",
    "    print('#'*25)\n",
    "    print('### Fold',i+1)\n",
    "    print('#'*25)\n",
    "        \n",
    "    # Iterating from Questions 1-18\n",
    "    for t in range(1,19):\n",
    "        print(t,', ',end='')\n",
    "        if t<=3: grp = '0-4'\n",
    "        elif t<=13: grp = '5-12'\n",
    "        elif t<=22: grp = '13-22'\n",
    "            \n",
    "        # Training Data\n",
    "        train_x = df_tr.iloc[train_index]\n",
    "        train_x = train_x.loc[train_x.level_group == grp]\n",
    "        train_users = train_x.index.values\n",
    "        train_y = train_label.loc[train_label.q==t].set_index('session').loc[train_users]\n",
    "        \n",
    "        # Validation Data\n",
    "        valid_x = df_tr.iloc[test_index]\n",
    "        valid_x = valid_x.loc[valid_x.level_group == grp]\n",
    "        valid_users = valid_x.index.values\n",
    "        valid_y = train_label.loc[train_label.q==t].set_index('session').loc[valid_users]\n",
    "        \n",
    "        # Training Model\n",
    "        keras.backend.clear_session()\n",
    "          \n",
    "        model = keras.models.Sequential([\n",
    "            keras.layers.Dense(256,activation=\"relu\"), # input layer with 256 neurons\n",
    "            \n",
    "            keras.layers.Dense(128,activation=\"relu\"), # dense hidden layer with 128 neurons\n",
    "            keras.layers.Dropout(0.5),\n",
    "            keras.layers.BatchNormalization(),\n",
    "            keras.layers.Dense(64,activation=\"relu\"),  # dense hidden layer with 64 neurons\n",
    "            keras.layers.Dropout(0.5),\n",
    "            keras.layers.BatchNormalization(),\n",
    "            keras.layers.Dense(64,activation=\"relu\"),  # dense hidden layer with 64 neurons\n",
    "            keras.layers.Dropout(0.5),\n",
    "            keras.layers.BatchNormalization(),\n",
    "            keras.layers.Dense(32,activation=\"relu\"),  # dense hidden layer with 32 neurons\n",
    "            \n",
    "            keras.layers.Dense(1, activation=\"sigmoid\") # output layer with 1 output\n",
    "        ])\n",
    "\n",
    "        model.compile(loss='binary_crossentropy',\n",
    "        optimizer=keras.optimizers.Nadam(learning_rate=0.05), \n",
    "        metrics=['accuracy']\n",
    "        )\n",
    "\n",
    "        history = model.fit(train_x[FEATURES].astype('float32'), train_y['correct'], epochs=10, verbose = 0)\n",
    "        # Save Model\n",
    "        models[f'{grp}_{t}'] = model\n",
    "        pp = model.predict(valid_x[FEATURES].astype('float32'))\n",
    "        new_arr = np.hstack((np.zeros(pp.shape), pp))\n",
    "        oof.loc[valid_users, t-1] = new_arr[:,1]\n",
    "    print()"
   ]
  },
  {
   "cell_type": "code",
   "execution_count": null,
   "metadata": {
    "id": "Hr8NRq4gEbbk"
   },
   "outputs": [],
   "source": [
    "true = oof.copy()\n",
    "for i in range(18):\n",
    "    temp = train_label.loc[train_label.q == i+1].set_index('session').loc[UNIQUE_ID]\n",
    "    true[i] = temp.correct.values"
   ]
  },
  {
   "cell_type": "code",
   "execution_count": null,
   "metadata": {
    "id": "ncooTObFEbbl",
    "outputId": "88493035-2bcf-4028-b4b6-0196192e31ee"
   },
   "outputs": [
    {
     "name": "stdout",
     "output_type": "stream",
     "text": [
      "0.40, 0.41, 0.42, 0.43, 0.44, 0.45, 0.46, 0.47, 0.48, 0.49, 0.50, 0.51, 0.52, 0.53, 0.54, 0.55, 0.56, 0.57, 0.58, 0.59, 0.60, 0.61, 0.62, 0.63, 0.64, 0.65, 0.66, 0.67, 0.68, 0.69, 0.70, 0.71, 0.72, 0.73, 0.74, 0.75, 0.76, 0.77, 0.78, 0.79, 0.80, "
     ]
    }
   ],
   "source": [
    "scores = []; thresholds = []\n",
    "best_score = 0; best_threshold = 0\n",
    "\n",
    "for threshold in np.arange(0.4,0.81,0.01):\n",
    "    print(f'{threshold:.02f}, ',end='')\n",
    "    preds = (oof.values.reshape((-1))>threshold).astype('int')\n",
    "    m = f1_score(true.values.reshape((-1)), preds, average='macro')   \n",
    "    scores.append(m)\n",
    "    thresholds.append(threshold)\n",
    "    if m>best_score:\n",
    "        best_score = m\n",
    "        best_threshold = threshold"
   ]
  },
  {
   "cell_type": "markdown",
   "metadata": {
    "id": "mNj6_UK2Ebbl"
   },
   "source": [
    "### Model Evaluation"
   ]
  },
  {
   "cell_type": "code",
   "execution_count": null,
   "metadata": {
    "id": "WaNv4J8CEbbl",
    "outputId": "6f792fc8-6678-4202-bc7e-48cd35cc1b48"
   },
   "outputs": [
    {
     "data": {
      "image/png": "[encoded data removed]",
      "text/plain": [
       "<Figure size 1440x360 with 1 Axes>"
      ]
     },
     "metadata": {
      "needs_background": "light"
     },
     "output_type": "display_data"
    }
   ],
   "source": [
    "plt.figure(figsize=(20,5))\n",
    "plt.plot(thresholds,scores,'-o',color='blue')\n",
    "plt.scatter([best_threshold], [best_score], color='blue', s=300, alpha=1)\n",
    "plt.xlabel('Threshold',size=14)\n",
    "plt.ylabel('Validation F1 Score',size=14)\n",
    "plt.title(f'Threshold vs. F1_Score with Best F1_Score = {best_score:.3f} at Best Threshold = {best_threshold:.3}',size=18)\n",
    "plt.show()"
   ]
  },
  {
   "cell_type": "code",
   "execution_count": null,
   "metadata": {
    "id": "0aRrX6_aEbbl",
    "outputId": "0af8c2b8-729a-4626-f8c9-b6bf76b32047"
   },
   "outputs": [
    {
     "name": "stdout",
     "output_type": "stream",
     "text": [
      "Q0: F1 = 0.4883203240945769\n",
      "Q1: F1 = 0.45788447658559384\n",
      "Q2: F1 = 0.4809106937478688\n",
      "Q3: F1 = 0.5018853783375387\n",
      "Q4: F1 = 0.3111734783371338\n",
      "Q5: F1 = 0.4984335092764506\n",
      "Q6: F1 = 0.49895288774768454\n",
      "Q7: F1 = 0.27681777723212914\n",
      "Q8: F1 = 0.4240527988266927\n",
      "Q9: F1 = 0.33091012352690613\n",
      "Q10: F1 = 0.4797790553536424\n",
      "Q11: F1 = 0.46321904544936776\n",
      "Q12: F1 = 0.42025490871512233\n",
      "Q13: F1 = 0.4144050104384134\n",
      "Q14: F1 = 0.3416596814752724\n",
      "Q15: F1 = 0.42358783668077404\n",
      "Q16: F1 = 0.4075135787567894\n",
      "Q17: F1 = 0.48734796893017995\n",
      "==> Overall F1 = 0.6201843260440758\n"
     ]
    }
   ],
   "source": [
    "for k in range(18):\n",
    "        \n",
    "    # Computing F1 Score per Question\n",
    "    m = f1_score(true[k].values, (oof[k].values>best_threshold).astype('int'), average='macro')\n",
    "    print(f'Q{k}: F1 =',m)\n",
    "    \n",
    "# Computing F1 Score Overall\n",
    "m = f1_score(true.values.reshape((-1)), (oof.values.reshape((-1))>best_threshold).astype('int'), average='macro')\n",
    "print('==> Overall F1 =',m)"
   ]
  },
  {
   "cell_type": "markdown",
   "metadata": {
    "id": "i5zfFX-qEbbj"
   },
   "source": [
    "### Model 3 - Keras Sequential Model\n",
    "#### Activation Function - 'elu'\n",
    "#### Hidden dense layers = 1\n",
    "#### Dropout rate 50%"
   ]
  },
  {
   "cell_type": "code",
   "execution_count": null,
   "metadata": {
    "execution": {
     "iopub.execute_input": "2023-05-02T03:51:33.718368Z",
     "iopub.status.busy": "2023-05-02T03:51:33.717791Z"
    },
    "id": "FdXFzY6FEbbj",
    "outputId": "b593499f-c029-48f6-b5e8-6c6ec5c94351"
   },
   "outputs": [
    {
     "name": "stdout",
     "output_type": "stream",
     "text": [
      "#########################\n",
      "### Fold 1\n",
      "#########################\n",
      "148/148 [==============================] - 1s 2ms/step\n",
      "148/148 [==============================] - 0s 2ms/step\n",
      "148/148 [==============================] - 1s 3ms/step\n",
      "148/148 [==============================] - 0s 2ms/step\n",
      "148/148 [==============================] - 1s 3ms/step\n",
      "148/148 [==============================] - 0s 2ms/step\n",
      "148/148 [==============================] - 0s 2ms/step\n",
      "148/148 [==============================] - 1s 2ms/step\n",
      "148/148 [==============================] - 0s 2ms/step\n",
      "148/148 [==============================] - 0s 2ms/step\n",
      "148/148 [==============================] - 0s 2ms/step\n",
      "148/148 [==============================] - 0s 2ms/step\n",
      "148/148 [==============================] - 0s 2ms/step\n",
      "148/148 [==============================] - 0s 2ms/step\n",
      "148/148 [==============================] - 0s 2ms/step\n",
      "148/148 [==============================] - 0s 2ms/step\n",
      "148/148 [==============================] - 0s 2ms/step\n",
      "148/148 [==============================] - 1s 3ms/step\n",
      "\n",
      "#########################\n",
      "### Fold 2\n",
      "#########################\n",
      "148/148 [==============================] - 0s 2ms/step\n",
      "148/148 [==============================] - 0s 2ms/step\n",
      "148/148 [==============================] - 0s 2ms/step\n",
      "148/148 [==============================] - 0s 2ms/step\n",
      "148/148 [==============================] - 0s 2ms/step\n",
      "148/148 [==============================] - 0s 2ms/step\n",
      "148/148 [==============================] - 1s 2ms/step\n",
      "148/148 [==============================] - 0s 3ms/step\n",
      "148/148 [==============================] - 1s 2ms/step\n",
      "148/148 [==============================] - 0s 2ms/step\n",
      "148/148 [==============================] - 0s 2ms/step\n",
      "148/148 [==============================] - 1s 3ms/step\n",
      "148/148 [==============================] - 0s 3ms/step\n",
      "148/148 [==============================] - 0s 3ms/step\n",
      "148/148 [==============================] - 0s 3ms/step\n",
      "148/148 [==============================] - 1s 3ms/step\n",
      "148/148 [==============================] - 0s 2ms/step\n",
      "148/148 [==============================] - 0s 2ms/step\n",
      "\n",
      "#########################\n",
      "### Fold 3\n",
      "#########################\n",
      "148/148 [==============================] - 0s 2ms/step\n",
      "148/148 [==============================] - 0s 2ms/step\n",
      "148/148 [==============================] - 0s 2ms/step\n",
      "148/148 [==============================] - 1s 3ms/step\n",
      "148/148 [==============================] - 1s 2ms/step\n",
      "148/148 [==============================] - 1s 3ms/step\n",
      "148/148 [==============================] - 1s 3ms/step\n",
      "148/148 [==============================] - 1s 3ms/step\n",
      "148/148 [==============================] - 0s 2ms/step\n",
      "148/148 [==============================] - 0s 2ms/step\n",
      "148/148 [==============================] - 0s 2ms/step\n",
      "148/148 [==============================] - 1s 3ms/step\n",
      "148/148 [==============================] - 0s 2ms/step\n",
      "148/148 [==============================] - 1s 3ms/step\n",
      "148/148 [==============================] - 1s 3ms/step\n",
      "148/148 [==============================] - 1s 3ms/step\n",
      "148/148 [==============================] - 0s 2ms/step\n",
      "148/148 [==============================] - 0s 2ms/step\n",
      "\n",
      "#########################\n",
      "### Fold 4\n",
      "#########################\n",
      "148/148 [==============================] - 0s 2ms/step\n",
      "148/148 [==============================] - 1s 2ms/step\n",
      "148/148 [==============================] - 0s 2ms/step\n",
      "148/148 [==============================] - 1s 2ms/step\n",
      "148/148 [==============================] - 1s 3ms/step\n",
      "148/148 [==============================] - 0s 2ms/step\n",
      "148/148 [==============================] - 1s 3ms/step\n",
      "148/148 [==============================] - 1s 3ms/step\n",
      "148/148 [==============================] - 0s 2ms/step\n",
      "148/148 [==============================] - 0s 2ms/step\n",
      "148/148 [==============================] - 1s 3ms/step\n",
      "148/148 [==============================] - 0s 2ms/step\n",
      "148/148 [==============================] - 1s 3ms/step\n",
      "148/148 [==============================] - 1s 3ms/step\n",
      "148/148 [==============================] - 0s 3ms/step\n",
      "148/148 [==============================] - 1s 3ms/step\n",
      "148/148 [==============================] - 0s 671us/step\n",
      "148/148 [==============================] - 0s 779us/step\n",
      "\n",
      "#########################\n",
      "### Fold 5\n",
      "#########################\n",
      "148/148 [==============================] - 0s 753us/step\n",
      "148/148 [==============================] - 0s 654us/step\n",
      "148/148 [==============================] - 0s 715us/step\n",
      "148/148 [==============================] - 0s 675us/step\n",
      "148/148 [==============================] - 0s 901us/step\n",
      "148/148 [==============================] - 0s 702us/step\n",
      "148/148 [==============================] - 0s 731us/step\n",
      "148/148 [==============================] - 0s 744us/step\n",
      "148/148 [==============================] - 0s 739us/step\n",
      "148/148 [==============================] - 0s 725us/step\n",
      "148/148 [==============================] - 0s 831us/step\n",
      "148/148 [==============================] - 0s 667us/step\n",
      "148/148 [==============================] - 0s 670us/step\n",
      "148/148 [==============================] - 0s 736us/step\n",
      "148/148 [==============================] - 0s 761us/step\n",
      "148/148 [==============================] - 0s 735us/step\n",
      "148/148 [==============================] - 0s 716us/step\n",
      "148/148 [==============================] - 0s 760us/step\n",
      "\n"
     ]
    }
   ],
   "source": [
    "gkf = GroupKFold(n_splits=5)\n",
    "oof = pd.DataFrame(data=np.zeros((len(UNIQUE_ID),18)), index=UNIQUE_ID)\n",
    "models = {}\n",
    "\n",
    "# Compute CV Score with 5 Group K Fold\n",
    "for i, (train_index, test_index) in enumerate(gkf.split(X=df_tr, groups=df_tr.index)):\n",
    "    print('#'*25)\n",
    "    print('### Fold',i+1)\n",
    "    print('#'*25)\n",
    "        \n",
    "    # Iterating from Questions 1-18\n",
    "    for t in range(1,19):\n",
    "        print(t,', ',end='')\n",
    "        if t<=3: grp = '0-4'\n",
    "        elif t<=13: grp = '5-12'\n",
    "        elif t<=22: grp = '13-22'\n",
    "            \n",
    "        # Training Data\n",
    "        train_x = df_tr.iloc[train_index]\n",
    "        train_x = train_x.loc[train_x.level_group == grp]\n",
    "        train_users = train_x.index.values\n",
    "        train_y = train_label.loc[train_label.q==t].set_index('session').loc[train_users]\n",
    "        \n",
    "        # Validation Data\n",
    "        valid_x = df_tr.iloc[test_index]\n",
    "        valid_x = valid_x.loc[valid_x.level_group == grp]\n",
    "        valid_users = valid_x.index.values\n",
    "        valid_y = train_label.loc[train_label.q==t].set_index('session').loc[valid_users]\n",
    "        \n",
    "        # Training Model\n",
    "        keras.backend.clear_session()\n",
    "          \n",
    "        model = keras.models.Sequential([\n",
    "            keras.layers.Dense(32, activation=\"elu\"), # input layer with 32 neurons\n",
    "            keras.layers.Dropout(0.5),\n",
    "            keras.layers.Dense(16, activation=\"elu\"), # dense hidden layer with 16 neurons\n",
    "            keras.layers.Dropout(0.25),\n",
    "            keras.layers.Dense(1, activation=\"sigmoid\") # output layer with 1 output\n",
    "        ])\n",
    "\n",
    "        model.compile(loss='binary_crossentropy',\n",
    "        optimizer=keras.optimizers.Nadam(learning_rate=0.05), \n",
    "        metrics=['accuracy']\n",
    "        )\n",
    "\n",
    "        history = model.fit(train_x[FEATURES].astype('float32'), train_y['correct'], epochs=10, verbose = 0)\n",
    "        # Save Model\n",
    "        models[f'{grp}_{t}'] = model\n",
    "        pp = model.predict(valid_x[FEATURES].astype('float32'))\n",
    "        new_arr = np.hstack((np.zeros(pp.shape), pp))\n",
    "        oof.loc[valid_users, t-1] = new_arr[:,1]\n",
    "    print()"
   ]
  },
  {
   "cell_type": "code",
   "execution_count": null,
   "metadata": {
    "execution": {
     "iopub.status.busy": "2023-05-02T03:51:28.706502Z",
     "iopub.status.idle": "2023-05-02T03:51:28.706960Z",
     "shell.execute_reply": "2023-05-02T03:51:28.706766Z",
     "shell.execute_reply.started": "2023-05-02T03:51:28.706741Z"
    },
    "id": "z4TxUQrzEbbj"
   },
   "outputs": [],
   "source": [
    "true = oof.copy()\n",
    "for i in range(18):\n",
    "    temp = train_label.loc[train_label.q == i+1].set_index('session').loc[UNIQUE_ID]\n",
    "    true[i] = temp.correct.values"
   ]
  },
  {
   "cell_type": "code",
   "execution_count": null,
   "metadata": {
    "execution": {
     "iopub.status.busy": "2023-05-02T03:51:28.708603Z",
     "iopub.status.idle": "2023-05-02T03:51:28.709294Z",
     "shell.execute_reply": "2023-05-02T03:51:28.709087Z",
     "shell.execute_reply.started": "2023-05-02T03:51:28.709058Z"
    },
    "id": "Jv9J4Qg4Ebbj",
    "outputId": "a9cff80c-ccaa-4507-85cc-d5565740b872"
   },
   "outputs": [
    {
     "name": "stdout",
     "output_type": "stream",
     "text": [
      "0.40, 0.41, 0.42, 0.43, 0.44, 0.45, 0.46, 0.47, 0.48, 0.49, 0.50, 0.51, 0.52, 0.53, 0.54, 0.55, 0.56, 0.57, 0.58, 0.59, 0.60, 0.61, 0.62, 0.63, 0.64, 0.65, 0.66, 0.67, 0.68, 0.69, 0.70, 0.71, 0.72, 0.73, 0.74, 0.75, 0.76, 0.77, 0.78, 0.79, 0.80, "
     ]
    }
   ],
   "source": [
    "scores = []; thresholds = []\n",
    "best_score = 0; best_threshold = 0\n",
    "\n",
    "for threshold in np.arange(0.4,0.81,0.01):\n",
    "    print(f'{threshold:.02f}, ',end='')\n",
    "    preds = (oof.values.reshape((-1))>threshold).astype('int')\n",
    "    m = f1_score(true.values.reshape((-1)), preds, average='macro')   \n",
    "    scores.append(m)\n",
    "    thresholds.append(threshold)\n",
    "    if m>best_score:\n",
    "        best_score = m\n",
    "        best_threshold = threshold"
   ]
  },
  {
   "cell_type": "markdown",
   "metadata": {
    "id": "NjhPBKplEbbk"
   },
   "source": [
    "### Model Evaluation"
   ]
  },
  {
   "cell_type": "code",
   "execution_count": null,
   "metadata": {
    "execution": {
     "iopub.status.busy": "2023-05-02T03:51:28.711084Z",
     "iopub.status.idle": "2023-05-02T03:51:28.711985Z",
     "shell.execute_reply": "2023-05-02T03:51:28.711779Z",
     "shell.execute_reply.started": "2023-05-02T03:51:28.711752Z"
    },
    "id": "zyKyrBKIEbbk",
    "outputId": "d7bec709-16bb-4361-e3c7-ca3d8f8216c4"
   },
   "outputs": [
    {
     "data": {
      "image/png": "[encoded data removed]",
      "text/plain": [
       "<Figure size 1440x360 with 1 Axes>"
      ]
     },
     "metadata": {
      "needs_background": "light"
     },
     "output_type": "display_data"
    }
   ],
   "source": [
    "plt.figure(figsize=(20,5))\n",
    "plt.plot(thresholds,scores,'-o',color='blue')\n",
    "plt.scatter([best_threshold], [best_score], color='blue', s=300, alpha=1)\n",
    "plt.xlabel('Threshold',size=14)\n",
    "plt.ylabel('Validation F1 Score',size=14)\n",
    "plt.title(f'Threshold vs. F1_Score with Best F1_Score = {best_score:.3f} at Best Threshold = {best_threshold:.3}',size=18)\n",
    "plt.show()\n"
   ]
  },
  {
   "cell_type": "code",
   "execution_count": null,
   "metadata": {
    "execution": {
     "iopub.status.busy": "2023-05-02T03:51:28.713203Z",
     "iopub.status.idle": "2023-05-02T03:51:28.714143Z",
     "shell.execute_reply": "2023-05-02T03:51:28.713935Z",
     "shell.execute_reply.started": "2023-05-02T03:51:28.713910Z"
    },
    "id": "uwFAGXkdEbbk",
    "outputId": "95b4d5a3-19d5-4e55-8e4e-c7c06d075b2b"
   },
   "outputs": [
    {
     "name": "stdout",
     "output_type": "stream",
     "text": [
      "Q0: F1 = 0.4211237500921308\n",
      "Q1: F1 = 0.49464879356568364\n",
      "Q2: F1 = 0.4829379622111523\n",
      "Q3: F1 = 0.4438989851309889\n",
      "Q4: F1 = 0.3111734783371338\n",
      "Q5: F1 = 0.43692197395148763\n",
      "Q6: F1 = 0.42398239823982403\n",
      "Q7: F1 = 0.27681777723212914\n",
      "Q8: F1 = 0.4240527988266927\n",
      "Q9: F1 = 0.33091012352690613\n",
      "Q10: F1 = 0.466047235475075\n",
      "Q11: F1 = 0.46321904544936776\n",
      "Q12: F1 = 0.42025490871512233\n",
      "Q13: F1 = 0.4144050104384134\n",
      "Q14: F1 = 0.3416596814752724\n",
      "Q15: F1 = 0.42358783668077404\n",
      "Q16: F1 = 0.4075135787567894\n",
      "Q17: F1 = 0.48734796893017995\n",
      "==> Overall F1 = 0.6493539514984068\n"
     ]
    }
   ],
   "source": [
    "for k in range(18):\n",
    "        \n",
    "    # Computing F1 Score per Question\n",
    "    m = f1_score(true[k].values, (oof[k].values>best_threshold).astype('int'), average='macro')\n",
    "    print(f'Q{k}: F1 =',m)\n",
    "    \n",
    "# Computing F1 Score Overall\n",
    "m = f1_score(true.values.reshape((-1)), (oof.values.reshape((-1))>best_threshold).astype('int'), average='macro')\n",
    "print('==> Overall F1 =',m)"
   ]
  },
  {
   "cell_type": "markdown",
   "metadata": {},
   "source": [
    "### Conclusion"
   ]
  },
  {
   "cell_type": "markdown",
   "metadata": {},
   "source": [
    "#### We observe that Model 3 gives the best accuracy with F1_score of 0.649 when compared to Model 2 and Model 1. \n",
    "#### We started to build a simple sequential model with 5 hidden layers and 'elu' activation function. Later after experimenting different number of layers and neurons with relu activation function, we came to a conclusion that the activation function 'elu' gives the best results. However adding more number of hidden layers was just complicating the model and over fitting to some extent. \n",
    "#### Hence the ideal and simple model with 32neurons in input layer, 16 neurons in hidden layer and a single output layer is suffice for this dataset."
   ]
  }
 ],
 "metadata": {
  "colab": {
   "provenance": []
  },
  "kernelspec": {
   "display_name": "Python 3 (ipykernel)",
   "language": "python",
   "name": "python3"
  },
  "language_info": {
   "codemirror_mode": {
    "name": "ipython",
    "version": 3
   },
   "file_extension": ".py",
   "mimetype": "text/x-python",
   "name": "python",
   "nbconvert_exporter": "python",
   "pygments_lexer": "ipython3",
   "version": "3.9.13"
  }
 },
 "nbformat": 4,
 "nbformat_minor": 1
}
